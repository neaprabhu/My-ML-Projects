{
 "cells": [
  {
   "cell_type": "markdown",
   "metadata": {},
   "source": [
    "This exercise will require you to pull some data from the Qunadl API. Qaundl is currently the most widely used aggregator of financial market data."
   ]
  },
  {
   "cell_type": "markdown",
   "metadata": {},
   "source": [
    "As a first step, you will need to register a free account on the http://www.quandl.com website."
   ]
  },
  {
   "cell_type": "markdown",
   "metadata": {},
   "source": [
    "After you register, you will be provided with a unique API key, that you should store:"
   ]
  },
  {
   "cell_type": "code",
   "execution_count": 1,
   "metadata": {},
   "outputs": [],
   "source": [
    "# Store the API key as a string - according to PEP8, constants are always named in all upper case\n",
    "API_KEY = 'sQeXbTfjzefKf4oDdYP3'"
   ]
  },
  {
   "cell_type": "markdown",
   "metadata": {},
   "source": [
    "Qaundl has a large number of data sources, but, unfortunately, most of them require a Premium subscription. Still, there are also a good number of free datasets."
   ]
  },
  {
   "cell_type": "markdown",
   "metadata": {},
   "source": [
    "For this mini project, we will focus on equities data from the Frankfurt Stock Exhange (FSE), which is available for free. We'll try and analyze the stock prices of a company called Carl Zeiss Meditec, which manufactures tools for eye examinations, as well as medical lasers for laser eye surgery: https://www.zeiss.com/meditec/int/home.html. The company is listed under the stock ticker AFX_X."
   ]
  },
  {
   "cell_type": "markdown",
   "metadata": {},
   "source": [
    "You can find the detailed Quandl API instructions here: https://docs.quandl.com/docs/time-series"
   ]
  },
  {
   "cell_type": "markdown",
   "metadata": {},
   "source": [
    "While there is a dedicated Python package for connecting to the Quandl API, we would prefer that you use the *requests* package, which can be easily downloaded using *pip* or *conda*. You can find the documentation for the package here: http://docs.python-requests.org/en/master/ "
   ]
  },
  {
   "cell_type": "markdown",
   "metadata": {},
   "source": [
    "Finally, apart from the *requests* package, you are encouraged to not use any third party Python packages, such as *pandas*, and instead focus on what's available in the Python Standard Library (the *collections* module might come in handy: https://pymotw.com/3/collections/).\n",
    "Also, since you won't have access to DataFrames, you are encouraged to us Python's native data structures - preferably dictionaries, though some questions can also be answered using lists.\n",
    "You can read more on these data structures here: https://docs.python.org/3/tutorial/datastructures.html"
   ]
  },
  {
   "cell_type": "markdown",
   "metadata": {},
   "source": [
    "Keep in mind that the JSON responses you will be getting from the API map almost one-to-one to Python's dictionaries. Unfortunately, they can be very nested, so make sure you read up on indexing dictionaries in the documentation provided above."
   ]
  },
  {
   "cell_type": "code",
   "execution_count": 2,
   "metadata": {},
   "outputs": [],
   "source": [
    "# First, import the relevant modules\n",
    "import requests\n",
    "import json\n"
   ]
  },
  {
   "cell_type": "code",
   "execution_count": 33,
   "metadata": {},
   "outputs": [],
   "source": [
    "# Now, call the Quandl API and pull out a small sample of the data (only one day) to get a glimpse\n",
    "# into the JSON structure that will be returned\n",
    "base_url = 'https://www.quandl.com/api/v3/datasets/'\n",
    "database_code = 'FSE'\n",
    "dataset_code = 'AFX_X'\n",
    "return_form = 'json'\n",
    "start_date = '2020-11-17'\n",
    "end_date = '2020-11-18'\n",
    "\n",
    "url = base_url+database_code+'/'+dataset_code+'.'+return_form+'?start_date='+start_date+'&end_date='+end_date+'&api_key='+API_KEY\n",
    "myResponse = requests.get(url = url)"
   ]
  },
  {
   "cell_type": "code",
   "execution_count": 34,
   "metadata": {},
   "outputs": [],
   "source": [
    "data = json.loads(myResponse.content.decode('utf-8'))"
   ]
  },
  {
   "cell_type": "code",
   "execution_count": 36,
   "metadata": {
    "scrolled": true
   },
   "outputs": [
    {
     "data": {
      "text/plain": [
       "{'dataset': {'id': 10095370,\n",
       "  'dataset_code': 'AFX_X',\n",
       "  'database_code': 'FSE',\n",
       "  'name': 'Carl Zeiss Meditec (AFX_X)',\n",
       "  'description': 'Stock Prices for Carl Zeiss Meditec (2020-11-02) from the Frankfurt Stock Exchange.<br><br>Trading System: Xetra<br><br>ISIN: DE0005313704',\n",
       "  'refreshed_at': '2020-12-01T14:48:09.907Z',\n",
       "  'newest_available_date': '2020-12-01',\n",
       "  'oldest_available_date': '2000-06-07',\n",
       "  'column_names': ['Date',\n",
       "   'Open',\n",
       "   'High',\n",
       "   'Low',\n",
       "   'Close',\n",
       "   'Change',\n",
       "   'Traded Volume',\n",
       "   'Turnover',\n",
       "   'Last Price of the Day',\n",
       "   'Daily Traded Units',\n",
       "   'Daily Turnover'],\n",
       "  'frequency': 'daily',\n",
       "  'type': 'Time Series',\n",
       "  'premium': False,\n",
       "  'limit': None,\n",
       "  'transform': None,\n",
       "  'column_index': None,\n",
       "  'start_date': '2020-11-17',\n",
       "  'end_date': '2020-11-18',\n",
       "  'data': [['2020-11-18',\n",
       "    115.8,\n",
       "    115.8,\n",
       "    115.0,\n",
       "    115.0,\n",
       "    None,\n",
       "    25.0,\n",
       "    2875.0,\n",
       "    None,\n",
       "    None,\n",
       "    None],\n",
       "   ['2020-11-17',\n",
       "    117.9,\n",
       "    117.9,\n",
       "    115.7,\n",
       "    115.7,\n",
       "    None,\n",
       "    381.0,\n",
       "    44235.6,\n",
       "    None,\n",
       "    None,\n",
       "    None]],\n",
       "  'collapse': None,\n",
       "  'order': None,\n",
       "  'database_id': 6129}}"
      ]
     },
     "execution_count": 36,
     "metadata": {},
     "output_type": "execute_result"
    }
   ],
   "source": [
    "data"
   ]
  },
  {
   "cell_type": "code",
   "execution_count": 75,
   "metadata": {},
   "outputs": [
    {
     "name": "stdout",
     "output_type": "stream",
     "text": [
      "[115.8, 117.9]\n",
      "117.9\n",
      "115.8\n"
     ]
    }
   ],
   "source": [
    "opening_price = []\n",
    "for d in data['dataset']['data']:\n",
    "    opening_price.append(d[1])\n",
    "print(opening_price)\n",
    "print(max(opening_price))\n",
    "print(min(opening_price))"
   ]
  },
  {
   "cell_type": "code",
   "execution_count": 43,
   "metadata": {},
   "outputs": [],
   "source": [
    "# Inspect the JSON structure of the object you created, and take note of how nested it is,\n",
    "# as well as the overall structure"
   ]
  },
  {
   "cell_type": "markdown",
   "metadata": {},
   "source": [
    "These are your tasks for this mini project:\n",
    "\n",
    "1. Collect data from the Franfurt Stock Exchange, for the ticker AFX_X, for the whole year 2017 (keep in mind that the date format is YYYY-MM-DD).\n",
    "2. Convert the returned JSON object into a Python dictionary.\n",
    "3. Calculate what the highest and lowest opening prices were for the stock in this period.\n",
    "4. What was the largest change in any one day (based on High and Low price)?\n",
    "5. What was the largest change between any two days (based on Closing Price)?\n",
    "6. What was the average daily trading volume during this year?\n",
    "7. (Optional) What was the median trading volume during this year. (Note: you may need to implement your own function for calculating the median.)"
   ]
  },
  {
   "cell_type": "code",
   "execution_count": 95,
   "metadata": {},
   "outputs": [],
   "source": [
    "# Task 1 - Collect data from FSE for AFX_X for whole year of 2017\n",
    "# For the Quandl API this would imply:\n",
    "# database_code = FSE\n",
    "# dataset_code = AFX_X\n",
    "# start_date = 2017-01-01\n",
    "# end_date = 2017-12-31\n",
    "\n",
    "base_url = 'https://www.quandl.com/api/v3/datasets/'\n",
    "database_code = 'FSE'\n",
    "dataset_code = 'AFX_X'\n",
    "return_form = 'json'\n",
    "start_date = '2017-01-01'\n",
    "end_date = '2017-12-31'\n",
    "\n",
    "url = base_url+database_code+'/'+dataset_code+'.'+return_form+'?start_date='+start_date+'&end_date='+end_date+'&api_key='+API_KEY\n",
    "myResponse = requests.get(url = url)"
   ]
  },
  {
   "cell_type": "code",
   "execution_count": 96,
   "metadata": {},
   "outputs": [],
   "source": [
    "# Task 2 - Convert the returned JSON object into a Python dictionary\n",
    "if(myResponse.ok):\n",
    "    miniproject_data = json.loads(myResponse.content.decode('utf-8'))\n",
    "else:\n",
    "    print('Issue with retrieving data from Quandl API')"
   ]
  },
  {
   "cell_type": "code",
   "execution_count": 98,
   "metadata": {},
   "outputs": [],
   "source": [
    "open_price = []\n",
    "highest_price = []\n",
    "lowest_price = []\n",
    "close_price = []\n",
    "trading_volume = []\n",
    "daily_change = []\n",
    "\n",
    "for datapoint in miniproject_data['dataset']['data']:\n",
    "    if datapoint[1] != None:\n",
    "        open_price.append(datapoint[1])\n",
    "    if (datapoint[2]!=None) and (datapoint[3]!=None):\n",
    "        highest_price.append(datapoint[2])\n",
    "        lowest_price.append(datapoint[3])\n",
    "        daily_change.append(datapoint[2]-datapoint[3])\n",
    "    if datapoint[4] != None:\n",
    "        close_price.append(datapoint[4])\n",
    "    if datapoint[6] != None:\n",
    "        trading_volume.append(datapoint[6])"
   ]
  },
  {
   "cell_type": "code",
   "execution_count": 99,
   "metadata": {},
   "outputs": [
    {
     "name": "stdout",
     "output_type": "stream",
     "text": [
      "Highest opening price = 53.11\n",
      "Lowest opening price = 34.0\n"
     ]
    }
   ],
   "source": [
    "# Task 3: Calculate what the highest and lowest opening prices were for the stock in this period        \n",
    "print('Highest opening price = {}'.format(max(open_price)))\n",
    "print('Lowest opening price = {}'.format(min(open_price)))"
   ]
  },
  {
   "cell_type": "code",
   "execution_count": 100,
   "metadata": {},
   "outputs": [
    {
     "name": "stdout",
     "output_type": "stream",
     "text": [
      "Largest Change in any one day = 2.8100000000000023\n"
     ]
    }
   ],
   "source": [
    "# Task 4: What was the largest change in any one day (based on High and Low price)?\n",
    "print('Largest Change in any one day = {}'.format(max(daily_change)))"
   ]
  },
  {
   "cell_type": "code",
   "execution_count": 101,
   "metadata": {},
   "outputs": [
    {
     "name": "stdout",
     "output_type": "stream",
     "text": [
      "Largest change between any two days (based on closing price) = 19.03\n"
     ]
    }
   ],
   "source": [
    "# Task 5: What was the largest change between any two days (based on Closing Price)?\n",
    "print('Largest change between any two days (based on closing price) = {}'.format(max(close_price)-min(close_price)))"
   ]
  },
  {
   "cell_type": "code",
   "execution_count": 105,
   "metadata": {},
   "outputs": [
    {
     "name": "stdout",
     "output_type": "stream",
     "text": [
      "Average daily trading volume = 89124.33725490196\n"
     ]
    }
   ],
   "source": [
    "# Task 6: What was the average daily trading volume during this year?\n",
    "print('Average daily trading volume = {}'.format(sum(trading_volume)/len(trading_volume)))"
   ]
  },
  {
   "cell_type": "code",
   "execution_count": 118,
   "metadata": {},
   "outputs": [
    {
     "name": "stdout",
     "output_type": "stream",
     "text": [
      "Median trading volume during this year = 76286.0\n"
     ]
    }
   ],
   "source": [
    "# Task 7: What was the median trading volume during this year\n",
    "def median(sequence):\n",
    "    sequence.sort()\n",
    "    if len(sequence)%2==0:\n",
    "        # Even length sequence\n",
    "        median = (sequence[len(sequence)//2]+sequence[len(sequence)//2 + 1])/2\n",
    "    else:\n",
    "        median = sequence[len(sequence)//2]\n",
    "    return median\n",
    "\n",
    "print('Median trading volume during this year = {}'.format(median(trading_volume)))"
   ]
  },
  {
   "cell_type": "code",
   "execution_count": null,
   "metadata": {},
   "outputs": [],
   "source": []
  }
 ],
 "metadata": {
  "kernelspec": {
   "display_name": "Python 3",
   "language": "python",
   "name": "python3"
  },
  "language_info": {
   "codemirror_mode": {
    "name": "ipython",
    "version": 3
   },
   "file_extension": ".py",
   "mimetype": "text/x-python",
   "name": "python",
   "nbconvert_exporter": "python",
   "pygments_lexer": "ipython3",
   "version": "3.8.5"
  }
 },
 "nbformat": 4,
 "nbformat_minor": 2
}
