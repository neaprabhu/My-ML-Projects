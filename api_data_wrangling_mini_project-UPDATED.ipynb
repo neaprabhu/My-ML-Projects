{
 "cells": [
  {
   "cell_type": "markdown",
   "metadata": {},
   "source": [
    "This exercise will require you to pull some data from the Qunadl API. Qaundl is currently the most widely used aggregator of financial market data."
   ]
  },
  {
   "cell_type": "markdown",
   "metadata": {},
   "source": [
    "As a first step, you will need to register a free account on the http://www.quandl.com website."
   ]
  },
  {
   "cell_type": "markdown",
   "metadata": {},
   "source": [
    "After you register, you will be provided with a unique API key, that you should store:"
   ]
  },
  {
   "cell_type": "code",
   "execution_count": 3,
   "metadata": {},
   "outputs": [],
   "source": [
    "# Store the API key as a string - according to PEP8, constants are always named in all upper case\n",
    "API_KEY = 'sQeXbTfjzefKf4oDdYP3'"
   ]
  },
  {
   "cell_type": "markdown",
   "metadata": {},
   "source": [
    "Qaundl has a large number of data sources, but, unfortunately, most of them require a Premium subscription. Still, there are also a good number of free datasets."
   ]
  },
  {
   "cell_type": "markdown",
   "metadata": {},
   "source": [
    "For this mini project, we will focus on equities data from the Frankfurt Stock Exhange (FSE), which is available for free. We'll try and analyze the stock prices of a company called Carl Zeiss Meditec, which manufactures tools for eye examinations, as well as medical lasers for laser eye surgery: https://www.zeiss.com/meditec/int/home.html. The company is listed under the stock ticker AFX_X."
   ]
  },
  {
   "cell_type": "markdown",
   "metadata": {},
   "source": [
    "You can find the detailed Quandl API instructions here: https://docs.quandl.com/docs/time-series"
   ]
  },
  {
   "cell_type": "markdown",
   "metadata": {},
   "source": [
    "While there is a dedicated Python package for connecting to the Quandl API, we would prefer that you use the *requests* package, which can be easily downloaded using *pip* or *conda*. You can find the documentation for the package here: http://docs.python-requests.org/en/master/ "
   ]
  },
  {
   "cell_type": "markdown",
   "metadata": {},
   "source": [
    "Finally, apart from the *requests* package, you are encouraged to not use any third party Python packages, such as *pandas*, and instead focus on what's available in the Python Standard Library (the *collections* module might come in handy: https://pymotw.com/3/collections/).\n",
    "Also, since you won't have access to DataFrames, you are encouraged to us Python's native data structures - preferably dictionaries, though some questions can also be answered using lists.\n",
    "You can read more on these data structures here: https://docs.python.org/3/tutorial/datastructures.html"
   ]
  },
  {
   "cell_type": "markdown",
   "metadata": {},
   "source": [
    "Keep in mind that the JSON responses you will be getting from the API map almost one-to-one to Python's dictionaries. Unfortunately, they can be very nested, so make sure you read up on indexing dictionaries in the documentation provided above."
   ]
  },
  {
   "cell_type": "code",
   "execution_count": 10,
   "metadata": {},
   "outputs": [],
   "source": [
    "# First, import the relevant modules\n",
    "import requests\n",
    "import json\n",
    "import pandas as pd\n",
    "import numpy as np\n"
   ]
  },
  {
   "cell_type": "code",
   "execution_count": 43,
   "metadata": {},
   "outputs": [],
   "source": [
    "# Inspect the JSON structure of the object you created, and take note of how nested it is,\n",
    "# as well as the overall structure"
   ]
  },
  {
   "cell_type": "markdown",
   "metadata": {},
   "source": [
    "These are your tasks for this mini project:\n",
    "\n",
    "1. Collect data from the Franfurt Stock Exchange, for the ticker AFX_X, for the whole year 2017 (keep in mind that the date format is YYYY-MM-DD).\n",
    "2. Convert the returned JSON object into a Python dictionary.\n",
    "3. Calculate what the highest and lowest opening prices were for the stock in this period.\n",
    "4. What was the largest change in any one day (based on High and Low price)?\n",
    "5. What was the largest change between any two days (based on Closing Price)?\n",
    "6. What was the average daily trading volume during this year?\n",
    "7. (Optional) What was the median trading volume during this year. (Note: you may need to implement your own function for calculating the median.)"
   ]
  },
  {
   "cell_type": "code",
   "execution_count": 29,
   "metadata": {},
   "outputs": [],
   "source": [
    "# Task 1 - Collect data from FSE for AFX_X for whole year of 2017\n",
    "# For the Quandl API this would imply:\n",
    "# database_code = FSE\n",
    "# dataset_code = AFX_X\n",
    "# start_date = 2017-01-01\n",
    "# end_date = 2017-12-31\n",
    "\n",
    "base_url = 'https://www.quandl.com/api/v3/datasets/'\n",
    "database_code = 'FSE'\n",
    "dataset_code = 'AFX_X'\n",
    "return_form = 'json'\n",
    "start_date = '2017-01-01'\n",
    "end_date = '2017-12-31'\n",
    "\n",
    "url = \"{}{}/{}.{}?start_date={}&end_date={}&api_key={}\".format(base_url, database_code, dataset_code, return_form, start_date, end_date, API_KEY)\n",
    "my_response = requests.get(url = url)"
   ]
  },
  {
   "cell_type": "code",
   "execution_count": 30,
   "metadata": {},
   "outputs": [],
   "source": [
    "# Task 2 - Convert the returned JSON object into a Python dictionary\n",
    "if(my_response.ok):\n",
    "    miniproject_data = json.loads(my_response.content.decode('utf-8'))\n",
    "else:\n",
    "    print('Issue with retrieving data from Quandl API')"
   ]
  },
  {
   "cell_type": "code",
   "execution_count": 50,
   "metadata": {},
   "outputs": [
    {
     "name": "stdout",
     "output_type": "stream",
     "text": [
      "TASK 3: Highest opening price = 53.11\n",
      "TASK 3: Lowest opening price = 34.0\n",
      "TASK 4: Largest change in any one day based on High and Low prices = 2.81\n",
      "TASK 5: Largest change between any two days (based on Closing Price) = 19.03\n",
      "TASK 6: Average daily trading volume during this year = 89124.34\n",
      "TASK 7: Median trading volume during this year = 76286.00\n"
     ]
    }
   ],
   "source": [
    "# Tasks 3 - 7:\n",
    "\n",
    "# Save the raw data from the API in the variable 'raw_data'\n",
    "column_names = ['Date', 'Open', 'High', 'Low', 'Close', 'Change', 'Traded Volume', 'Turnover', 'Last Price of the Day', 'Daily Traded Units', 'Daily Turnover']\n",
    "raw_data = miniproject_data['dataset']['data']\n",
    "\n",
    "# Create a pandas dataframe with the data from the API\n",
    "df = pd.DataFrame(raw_data, columns=column_names)\n",
    "\n",
    "# Add a 'Daily_change' column to the DataFrame that will be evaluated based on daily 'High' and 'Low'\n",
    "df['Daily_change'] = df['High'] - df['Low']\n",
    "\n",
    "# Use DataFrame method 'agg' to get various statistics for each column as requested by the various tasks\n",
    "agg_data = df.agg({'Open':['min','max'],'Daily_change':['max'], 'Close':['min','max'], 'Traded Volume':['mean','median']})\n",
    "\n",
    "# Task 3\n",
    "print('TASK 3: Highest opening price = {}'.format(agg_data['Open']['max']))\n",
    "print('TASK 3: Lowest opening price = {}'.format(agg_data['Open']['min']))\n",
    "\n",
    "# Task 4\n",
    "print('TASK 4: Largest change in any one day based on High and Low prices = {:.2f}'.format(agg_data['Daily_change']['max']))\n",
    "\n",
    "# Task 5\n",
    "largest_change_closing = agg_data['Close']['max'] - agg_data['Close']['min']\n",
    "print('TASK 5: Largest change between any two days (based on Closing Price) = {}'.format(largest_change_closing))\n",
    "\n",
    "# Task 6\n",
    "print('TASK 6: Average daily trading volume during this year = {:.2f}'.format(agg_data['Traded Volume']['mean']))\n",
    "\n",
    "# Task 7\n",
    "print('TASK 7: Median trading volume during this year = {:.2f}'.format(agg_data['Traded Volume']['median']))"
   ]
  },
  {
   "cell_type": "code",
   "execution_count": null,
   "metadata": {},
   "outputs": [],
   "source": []
  }
 ],
 "metadata": {
  "kernelspec": {
   "display_name": "Python 3",
   "language": "python",
   "name": "python3"
  },
  "language_info": {
   "codemirror_mode": {
    "name": "ipython",
    "version": 3
   },
   "file_extension": ".py",
   "mimetype": "text/x-python",
   "name": "python",
   "nbconvert_exporter": "python",
   "pygments_lexer": "ipython3",
   "version": "3.8.5"
  }
 },
 "nbformat": 4,
 "nbformat_minor": 2
}
